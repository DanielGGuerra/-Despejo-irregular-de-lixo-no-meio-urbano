{
  "cells": [
    {
      "metadata": {
        "collapsed": true
      },
      "cell_type": "markdown",
      "source": "<h1 align=\"center\">\n    <font color=\"darkblue\">\n         Despejo irregular de lixo no meio urbano\n    </font>\n</h1>"
    },
    {
      "metadata": {},
      "cell_type": "markdown",
      "source": "<p>\n    Sempre que discutimos a forma que o lixo é despejado irregulamente imaginamos nos impactos que isso causa a natureza e, conseguentemente, nos seres vivos em geral. No entanto, gostariamos de discutir e analisar os problemas no meio urbano, local onde nós vivemos nossas vidas. Portanto qual o problema de despeja o lixo em um terreno baldio? ou em rua que não será coletado? ou, ainda pior, em uma data que o lixo não será coletado?\n</p>\n\n<p>\n    <b><font color=\"darkblue\">Quais são estes problemas:</font></b>\n    <ul>\n        <li>Acúmulo lixo indesejaveis;</li>\n        <li>Atração de animais e insetos, como os moquistos e ratos;</li>\n        <li>Contaminação do solo e do ar, causando mal cheiro e deixando o solo local infertil;</li>\n        <li>Aumento de problalidade de contaminação e doenças;</li>\n        <li>\n             Podemos também ter problemas com os animais de ruas pois:\n            <ul>\n                <li>Podem espalharem os lixo;</li>\n                <li>Podem se portadores de doenças contraidos atraves do lixo.</li>\n            </ul>\n        <li>Segue um link com um dos problema do lixo. <a href=\"https://globoplay.globo.com/v/6702736/\">clique aqui</a\n    </ul>\n    Relato do integrante Daniel: O caso mais corriqueiro no local em que moro é fato de alguns dos nossos vizinhos colocarem seus lixo no dia incorreto, pois esta pratica posibilita que os animais de rua espalhem o lixo.\n</p>"
    },
    {
      "metadata": {},
      "cell_type": "markdown",
      "source": "<p>Segue o video com uns dos problemas causado pelo lixo: <a href=\"https://globoplay.globo.com/v/6702736/\"> clique aqui</a></p>"
    },
    {
      "metadata": {
        "trusted": true
      },
      "cell_type": "code",
      "source": "",
      "execution_count": null,
      "outputs": []
    }
  ],
  "metadata": {
    "kernelspec": {
      "name": "python36",
      "display_name": "Python 3.6",
      "language": "python"
    },
    "language_info": {
      "mimetype": "text/x-python",
      "nbconvert_exporter": "python",
      "name": "python",
      "pygments_lexer": "ipython3",
      "version": "3.6.6",
      "file_extension": ".py",
      "codemirror_mode": {
        "version": 3,
        "name": "ipython"
      }
    }
  },
  "nbformat": 4,
  "nbformat_minor": 2
}